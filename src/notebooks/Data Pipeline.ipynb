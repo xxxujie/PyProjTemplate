{
 "cells": [
  {
   "cell_type": "markdown",
   "metadata": {},
   "source": [
    "Pytorch 中的数据 pipeline 设计：典型的「生产者-消费者」模式，分为四个抽象层次：\n",
    "1. **Sampler**：负责生成 index 序列；\n",
    "2. **Dataset**：负责根据 index 读取对应数据，并做预处理；\n",
    "3. **DataloaderIter**：负责协调多进程执行 Dataset；\n",
    "4. **Dataloader**：最顶层的抽象，外部消费者直接解除的就是它。"
   ]
  },
  {
   "cell_type": "code",
   "execution_count": null,
   "metadata": {
    "vscode": {
     "languageId": "plaintext"
    }
   },
   "outputs": [],
   "source": []
  }
 ],
 "metadata": {
  "language_info": {
   "name": "python"
  }
 },
 "nbformat": 4,
 "nbformat_minor": 2
}
